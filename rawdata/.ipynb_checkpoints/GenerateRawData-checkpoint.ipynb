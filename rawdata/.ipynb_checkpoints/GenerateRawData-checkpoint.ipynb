{
 "cells": [
  {
   "cell_type": "code",
   "execution_count": 1,
   "metadata": {
    "collapsed": true
   },
   "outputs": [],
   "source": [
    "import numpy as np\n",
    "def polar2cart(theta, phi):\n",
    "    return [\n",
    "         np.sin(theta) * np.cos(phi),\n",
    "         np.sin(theta) * np.sin(phi),\n",
    "         np.cos(theta)\n",
    "    ]"
   ]
  },
  {
   "cell_type": "code",
   "execution_count": 12,
   "metadata": {},
   "outputs": [],
   "source": [
    "n=150000\n",
    "#rnds = np.random.rand(6)\n",
    "theta =2.*np.pi*np.random.uniform(0, 1, n)\n",
    "phi = np.arccos(-1 + 2*np.random.uniform(0, 1, n)) -np.pi/2.\n",
    "theta1 =2*np.pi*np.random.uniform(0, 1, n) \n",
    "phi1 = np.arccos(-1 + 2*np.random.uniform(0, 1, n))\n",
    "unitVector1=polar2cart(theta1,phi1)\n",
    "theta2 =2.*np.pi*np.random.uniform(0, 1, n)\n",
    "phi2 = np.arccos(-1 + 2*np.random.uniform(0, 1, n))\n",
    "unitVector2=polar2cart(theta1,phi1)\n",
    "speed = np.random.uniform(0, 1, n)"
   ]
  },
  {
   "cell_type": "code",
   "execution_count": 13,
   "metadata": {
    "collapsed": true
   },
   "outputs": [],
   "source": [
    "writeFile = open(\"../data/particles.raw\",'w')\n",
    "for i in range(n):\n",
    "    writeFile.write(\"{:6.4f} {:6.4f} {:6.4f} {:6.4f} {:6.4f} {:6.4f} {:6.4f} {:6.4f} {:6.4f}\\n\".format(theta[i],phi[i],speed[i],unitVector1[0][i],unitVector1[1][i],unitVector1[2][i],unitVector2[0][i],unitVector2[1][i],unitVector2[2][i]))\n",
    "writeFile.close()"
   ]
  },
  {
   "cell_type": "code",
   "execution_count": 9,
   "metadata": {},
   "outputs": [
    {
     "data": {
      "text/plain": [
       "0.008388665457263229"
      ]
     },
     "execution_count": 9,
     "metadata": {},
     "output_type": "execute_result"
    }
   ],
   "source": [
    "min(phi)\n"
   ]
  },
  {
   "cell_type": "code",
   "execution_count": 23,
   "metadata": {},
   "outputs": [],
   "source": [
    "longitudes = 2.*np.arccos(1 - 2*np.random.uniform(0, 1, n))"
   ]
  },
  {
   "cell_type": "code",
   "execution_count": null,
   "metadata": {
    "collapsed": true
   },
   "outputs": [],
   "source": []
  },
  {
   "cell_type": "code",
   "execution_count": 15,
   "metadata": {},
   "outputs": [
    {
     "name": "stdout",
     "output_type": "stream",
     "text": [
      "[ 143.94460799   66.46615122   54.19401149   80.92700403   45.73283615\n",
      "   77.58244235  171.05678879   60.99491411  147.24249373  148.63471896\n",
      "  155.08072408  174.7232143    58.49279822   48.29949503  176.93745999\n",
      "  161.63854414   49.89713021  130.07102943   68.32781463    5.03432341\n",
      "   97.32116081   37.39082519   52.86753242   62.07683441  113.30782666\n",
      "  170.8767613    26.05403413   85.92584716  172.41687905   53.39271022\n",
      "   72.03412983  142.75571175  154.70579404  159.96974528   96.43210166\n",
      "   25.26245276  147.4015614   159.5868241   173.94608084   83.53108231\n",
      "   76.82908399  138.92849337  147.06720969   28.08817679  112.56330359\n",
      "    5.1497275   169.80741476   64.48227531   38.58066503  142.18651754\n",
      "   26.80355641  177.46725917  174.00361818   15.35509283   41.36552639\n",
      "  158.92842292  172.29212739   19.3828493   170.01432492    0.98224206\n",
      "   25.24547275   64.46820072  113.8128507   175.55700338  117.44316266\n",
      "  138.54721032  100.44439433  118.45486577  115.61200186  146.48641283\n",
      "   48.1705724    15.96050856   17.55060626   94.59005152  124.61183227\n",
      "  127.0199124    41.92459039   24.46650767   84.61012882  130.37086771\n",
      "  169.86932506  175.54241752    2.04964997   18.07274893   76.77994443\n",
      "   65.64304384   37.2262523    92.6409598   122.50751631  158.99690405\n",
      "  157.60641044   17.61298464   21.8479614   113.41354222   42.67172803\n",
      "   75.3267783    41.89038985   96.77498768  163.88963498  163.59356247] [  61.14866833   83.78051986  122.81415353  141.53595469   21.63702798\n",
      "  100.66343281    7.99174314   77.07781548  101.48828217  140.84894348\n",
      "   67.49493639  147.47850355   71.48937079  127.60640789   67.24553877\n",
      "   69.08158103   56.00169681  157.22319321   81.76811511   78.60711888\n",
      "   77.13025125   98.12100916   41.64454988   60.72523016  129.53912197\n",
      "   57.27669971  112.94634285   57.74276125   71.52067776   96.70661575\n",
      "   97.19735906   78.57566696  113.11801809  108.78497229  128.6609245\n",
      "  109.72143931   75.15415624   95.69619014  111.40491148  115.56910515\n",
      "   36.23440358  148.50459655  130.0670099    48.29122786  110.1392551\n",
      "   59.05696441   33.55041308   19.14154075   84.86310605  119.80409429\n",
      "  107.20692211   71.99851031   93.53829963  103.59047733  141.87630885\n",
      "  138.6316723   170.45316183   74.44607294  106.57124741   42.4199536\n",
      "  141.45629644   97.81383724   46.34687618   87.67201313   84.6152488\n",
      "   98.24349137  159.73426139  113.43716704   75.18666655   42.10873822\n",
      "  166.18505382   32.7244834   139.1105647   132.93894693  108.9829505\n",
      "   38.10066209   77.42472731  139.21516923  140.06253981   80.59682792\n",
      "   54.85455806   40.94341902  142.64283298   65.81761264  133.32607538\n",
      "   18.56082582  108.18264216   73.7879016    27.71620054   89.52635438\n",
      "   13.2103326   104.88407531  141.60508364  108.29863466   35.90533662\n",
      "  145.27455226   44.1781367   109.33324157  114.08061714   34.19241613]\n"
     ]
    }
   ],
   "source": [
    "print (latitudes,longitudes)"
   ]
  },
  {
   "cell_type": "code",
   "execution_count": 26,
   "metadata": {},
   "outputs": [
    {
     "data": {
      "text/plain": [
       "0.066251786704344992"
      ]
     },
     "execution_count": 26,
     "metadata": {},
     "output_type": "execute_result"
    }
   ],
   "source": [
    "min(longitudes)"
   ]
  },
  {
   "cell_type": "code",
   "execution_count": null,
   "metadata": {
    "collapsed": true
   },
   "outputs": [],
   "source": []
  }
 ],
 "metadata": {
  "anaconda-cloud": {},
  "kernelspec": {
   "display_name": "Python 3",
   "language": "python",
   "name": "python3"
  },
  "language_info": {
   "codemirror_mode": {
    "name": "ipython",
    "version": 3
   },
   "file_extension": ".py",
   "mimetype": "text/x-python",
   "name": "python",
   "nbconvert_exporter": "python",
   "pygments_lexer": "ipython3",
   "version": "3.6.8"
  }
 },
 "nbformat": 4,
 "nbformat_minor": 1
}
