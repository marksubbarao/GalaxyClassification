{
 "cells": [
  {
   "cell_type": "markdown",
   "metadata": {},
   "source": [
    "# Galaxy Classification\n",
    "for the Zooniverse Kavli Lecture"
   ]
  },
  {
   "cell_type": "markdown",
   "metadata": {},
   "source": [
    "### Imports and function definitions"
   ]
  },
  {
   "cell_type": "code",
   "execution_count": 1,
   "metadata": {},
   "outputs": [],
   "source": [
    "#This directory contains all the data needed for the module. It should be in the same directory as the notebook\n",
    "dataFolder = \"data\" \n",
    "import sys, os, shutil, errno, string, urllib.request, math, copy\n",
    "sys.path.append(( os.path.abspath( os.path.join(os.path.realpath(\"__file__\"), os.pardir, os.pardir, os.pardir) )))\n",
    "import uvmodlib.v1 as uvmod\n",
    "from config import Settings\n"
   ]
  },
  {
   "cell_type": "code",
   "execution_count": 2,
   "metadata": {},
   "outputs": [],
   "source": [
    "# Run this if you want to build in 3.0 rather than 2.0\n",
    "from config import Settings\n",
    "Settings.uvcustommodulelocation='C:\\\\Users\\\\msubbarao\\\\SCISS\\\\Uniview Theater 3.0\\\\Custom Modules'"
   ]
  },
  {
   "cell_type": "markdown",
   "metadata": {},
   "source": [
    "### USES Conf Template"
   ]
  },
  {
   "cell_type": "code",
   "execution_count": 3,
   "metadata": {},
   "outputs": [],
   "source": [
    "gzTemplate = \"\"\"mesh\n",
    "{\n",
    "    data particles ./modules/$folderName/particles.raw\n",
    "    dataHints particles disablePostprocessing    \n",
    "\n",
    "    glslVersion 330\n",
    "\n",
    "    enableTypeCheck true\n",
    "    creaseAngle 180.0\n",
    "    propertyCollection\n",
    "    {\n",
    "        __objectName__\n",
    "        {\n",
    "            vec1f gzMarkerSize 0.135 | public\n",
    "            vec1f gzDisplayMode 0.0 | public\n",
    "            vec1i gzNumDisplay 144 | public\n",
    "        }\n",
    "    }\n",
    "\n",
    "\n",
    "    pass # for Markers\n",
    "    {\n",
    "        passScale 1\n",
    "        passEnable true\n",
    "        useDataObject particles\n",
    "\n",
    "        shader\n",
    "        {\n",
    "            type defaultMeshShader\n",
    "            {\n",
    "                StateManagerVar __objectName__.gzMarkerSize spriteRadius\n",
    "                StateManagerVar __objectName__.gzDisplayMode displayMode\n",
    "                StateManagerVar __objectName__.gzNumDisplay numDisplay\n",
    "\n",
    "                texture galPics ./modules/$folderName/galaxies.dds\n",
    "                {\n",
    "                }\n",
    "             \n",
    "                vertexShader ./modules/$folderName/shaders/meshPass0.vs\n",
    "                fragmentShader ./modules/$folderName/shaders/gz_fragment.glsl\n",
    "                geometryShader ./modules/$folderName/shaders/gz_geometry.glsl\n",
    "\n",
    "                glState\n",
    "                {\n",
    "                    UV_BLEND_FUNC GL_SRC_ALPHA GL_ONE_MINUS_SRC_ALPHA\n",
    "                    UV_DEPTH_ENABLE true\n",
    "                    UV_BLEND_ENABLE true\n",
    "                    UV_WRITE_MASK_DEPTH true\n",
    "                }\n",
    "            }\n",
    "        }\n",
    "    }\n",
    "}\"\"\""
   ]
  },
  {
   "cell_type": "markdown",
   "metadata": {},
   "source": [
    "### Galaxy Zoo Class"
   ]
  },
  {
   "cell_type": "code",
   "execution_count": 4,
   "metadata": {},
   "outputs": [],
   "source": [
    "class GZ():\n",
    "    def __init__(self, object):\n",
    "        self.object = object\n",
    "        self.Alpha = 1.0\n",
    "    def setAlpha(self,Alpha):\n",
    "        self.Alpha = Alpha\n",
    "    def generatemod(self):\n",
    "        self.object.setgeometry(self.object.name+\".usesconf\")\n",
    "        return self.object.generatemod()\n",
    "    def generatefiles(self, absOutDir, relOutDir):\n",
    "        fileName = self.object.name+\".usesconf\"\n",
    "        s = string.Template(gzTemplate)\n",
    "        f = open(absOutDir+\"\\\\\"+fileName, 'w')\n",
    "        if f:\n",
    "            f.write(s.substitute(folderName = relOutDir))\n",
    "            f.close()\n",
    "        uvmod.Utility.copyfoldercontents(os.getcwd()+\"\\\\\"+dataFolder, absOutDir)"
   ]
  },
  {
   "cell_type": "markdown",
   "metadata": {},
   "source": [
    "### Object Instantiation"
   ]
  },
  {
   "cell_type": "code",
   "execution_count": 5,
   "metadata": {},
   "outputs": [],
   "source": [
    "gzModel = GZ(uvmod.OrbitalObject())\n",
    "generator = uvmod.Generator()\n",
    "scene = uvmod.Scene()\n",
    "modinfo = uvmod.ModuleInformation()"
   ]
  },
  {
   "cell_type": "markdown",
   "metadata": {},
   "source": [
    "### Specify Settings and generate the module"
   ]
  },
  {
   "cell_type": "code",
   "execution_count": 6,
   "metadata": {},
   "outputs": [],
   "source": [
    "scene.setname(\"GalPics\")\n",
    "scene.setparent(\"Extragalactic\")\n",
    "scene.setunit(100000000000000000.0)\n",
    "scene.setentrydist(10000000.0)\n",
    "scene.setstaticposition(0.0, 0.0, 300.0)\n",
    "gzModel.object.setcoord(scene.name)\n",
    "gzModel.object.setname(\"GalaxyClassification\")\n",
    "gzModel.object.setguiname(\"/KavliLecture/Zooniverse/Galaxy Classification\")\n",
    "gzModel.object.showatstartup(False)\n",
    "gzModel.object.setscalefactor(1000.)\n",
    "modinfo.setname(\"Galaxy Classification\")\n",
    "modinfo.setauthor(\"Mark SubbaRao(1)<br /> Adler Planetarium<br />\")\n",
    "modinfo.cleardependencies()\n",
    "modinfo.setdesc(\"A module to illustrate the Galaxy Zoo process.\")\n",
    "modinfo.setthumbnail(\"data/images/thumbnail.png\")\n",
    "modinfo.setversion(\"1.0\")\n",
    "\n",
    "generator.generate(\"GalaxyClassification\",[scene],[gzModel],modinfo)"
   ]
  },
  {
   "cell_type": "markdown",
   "metadata": {},
   "source": [
    "### Helper Functions for modifing code\n",
    "##### Reload Module and Shaders in Uniview"
   ]
  },
  {
   "cell_type": "code",
   "execution_count": 21,
   "metadata": {},
   "outputs": [
    {
     "name": "stdout",
     "output_type": "stream",
     "text": [
      "Unable to connect to Uniview\n"
     ]
    }
   ],
   "source": [
    "uvmod.Utility.senduvcommand(gzModel.object.name+\".reload\")\n"
   ]
  },
  {
   "cell_type": "markdown",
   "metadata": {},
   "source": [
    "##### Copy modified Shader files and reload"
   ]
  },
  {
   "cell_type": "code",
   "execution_count": 7,
   "metadata": {},
   "outputs": [],
   "source": [
    "from config import Settings"
   ]
  },
  {
   "cell_type": "code",
   "execution_count": 13,
   "metadata": {},
   "outputs": [
    {
     "ename": "SyntaxError",
     "evalue": "invalid syntax (<ipython-input-13-5b2083cd8ec8>, line 1)",
     "output_type": "error",
     "traceback": [
      "\u001b[1;36m  File \u001b[1;32m\"<ipython-input-13-5b2083cd8ec8>\"\u001b[1;36m, line \u001b[1;32m1\u001b[0m\n\u001b[1;33m    uvmod.Utility.copyfoldercontents(os.getcwd()+ os.pardir\"\\\\\"+dataFolder+'\\\\shaders', Settings.uvcustommodulelocation+'\\\\'+gzModel.object.name+'\\\\shaders')\u001b[0m\n\u001b[1;37m                                                              ^\u001b[0m\n\u001b[1;31mSyntaxError\u001b[0m\u001b[1;31m:\u001b[0m invalid syntax\n"
     ]
    }
   ],
   "source": [
    "uvmod.Utility.copyfoldercontents(os.getcwd()+ os.pardir\"\\\\\"+dataFolder+'\\\\shaders', Settings.uvcustommodulelocation+'\\\\'+gzModel.object.name+'\\\\shaders')\n",
    "uvmod.Utility.senduvcommand(gzModel.object.name+\".reload\")"
   ]
  },
  {
   "cell_type": "code",
   "execution_count": null,
   "metadata": {
    "collapsed": true
   },
   "outputs": [],
   "source": []
  }
 ],
 "metadata": {
  "anaconda-cloud": {},
  "kernelspec": {
   "display_name": "Python 3",
   "language": "python",
   "name": "python3"
  },
  "language_info": {
   "codemirror_mode": {
    "name": "ipython",
    "version": 3
   },
   "file_extension": ".py",
   "mimetype": "text/x-python",
   "name": "python",
   "nbconvert_exporter": "python",
   "pygments_lexer": "ipython3",
   "version": "3.6.8"
  }
 },
 "nbformat": 4,
 "nbformat_minor": 1
}
